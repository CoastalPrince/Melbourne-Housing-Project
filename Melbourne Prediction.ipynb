{
 "cells": [
  {
   "cell_type": "code",
   "execution_count": 1,
   "id": "b8e113b2",
   "metadata": {},
   "outputs": [],
   "source": [
    "import pandas as pd\n",
    "import numpy as np\n",
    "import matplotlib.pyplot as plt\n",
    "import seaborn as sns\n",
    "import sklearn as sk\n",
    "import warnings\n",
    "warnings.filterwarnings(\"ignore\")"
   ]
  },
  {
   "cell_type": "code",
   "execution_count": 2,
   "id": "e82f0a87",
   "metadata": {},
   "outputs": [],
   "source": [
    "data = pd.read_csv(\"C:/Users/Subramanian R/Documents/Python/Machine Learning/Data Science Assignment/melb_data.csv\")"
   ]
  },
  {
   "cell_type": "code",
   "execution_count": 3,
   "id": "b2631578",
   "metadata": {},
   "outputs": [
    {
     "data": {
      "text/html": [
       "<div>\n",
       "<style scoped>\n",
       "    .dataframe tbody tr th:only-of-type {\n",
       "        vertical-align: middle;\n",
       "    }\n",
       "\n",
       "    .dataframe tbody tr th {\n",
       "        vertical-align: top;\n",
       "    }\n",
       "\n",
       "    .dataframe thead th {\n",
       "        text-align: right;\n",
       "    }\n",
       "</style>\n",
       "<table border=\"1\" class=\"dataframe\">\n",
       "  <thead>\n",
       "    <tr style=\"text-align: right;\">\n",
       "      <th></th>\n",
       "      <th>Suburb</th>\n",
       "      <th>Address</th>\n",
       "      <th>Rooms</th>\n",
       "      <th>Type</th>\n",
       "      <th>Price</th>\n",
       "      <th>Method</th>\n",
       "      <th>SellerG</th>\n",
       "      <th>Date</th>\n",
       "      <th>Distance</th>\n",
       "      <th>Postcode</th>\n",
       "      <th>...</th>\n",
       "      <th>Bathroom</th>\n",
       "      <th>Car</th>\n",
       "      <th>Landsize</th>\n",
       "      <th>BuildingArea</th>\n",
       "      <th>YearBuilt</th>\n",
       "      <th>CouncilArea</th>\n",
       "      <th>Lattitude</th>\n",
       "      <th>Longtitude</th>\n",
       "      <th>Regionname</th>\n",
       "      <th>Propertycount</th>\n",
       "    </tr>\n",
       "  </thead>\n",
       "  <tbody>\n",
       "    <tr>\n",
       "      <th>0</th>\n",
       "      <td>Abbotsford</td>\n",
       "      <td>85 Turner St</td>\n",
       "      <td>2</td>\n",
       "      <td>h</td>\n",
       "      <td>1480000.0</td>\n",
       "      <td>S</td>\n",
       "      <td>Biggin</td>\n",
       "      <td>3/12/2016</td>\n",
       "      <td>2.5</td>\n",
       "      <td>3067.0</td>\n",
       "      <td>...</td>\n",
       "      <td>1.0</td>\n",
       "      <td>1.0</td>\n",
       "      <td>202.0</td>\n",
       "      <td>NaN</td>\n",
       "      <td>NaN</td>\n",
       "      <td>Yarra</td>\n",
       "      <td>-37.7996</td>\n",
       "      <td>144.9984</td>\n",
       "      <td>Northern Metropolitan</td>\n",
       "      <td>4019.0</td>\n",
       "    </tr>\n",
       "    <tr>\n",
       "      <th>1</th>\n",
       "      <td>Abbotsford</td>\n",
       "      <td>25 Bloomburg St</td>\n",
       "      <td>2</td>\n",
       "      <td>h</td>\n",
       "      <td>1035000.0</td>\n",
       "      <td>S</td>\n",
       "      <td>Biggin</td>\n",
       "      <td>4/02/2016</td>\n",
       "      <td>2.5</td>\n",
       "      <td>3067.0</td>\n",
       "      <td>...</td>\n",
       "      <td>1.0</td>\n",
       "      <td>0.0</td>\n",
       "      <td>156.0</td>\n",
       "      <td>79.0</td>\n",
       "      <td>1900.0</td>\n",
       "      <td>Yarra</td>\n",
       "      <td>-37.8079</td>\n",
       "      <td>144.9934</td>\n",
       "      <td>Northern Metropolitan</td>\n",
       "      <td>4019.0</td>\n",
       "    </tr>\n",
       "    <tr>\n",
       "      <th>2</th>\n",
       "      <td>Abbotsford</td>\n",
       "      <td>5 Charles St</td>\n",
       "      <td>3</td>\n",
       "      <td>h</td>\n",
       "      <td>1465000.0</td>\n",
       "      <td>SP</td>\n",
       "      <td>Biggin</td>\n",
       "      <td>4/03/2017</td>\n",
       "      <td>2.5</td>\n",
       "      <td>3067.0</td>\n",
       "      <td>...</td>\n",
       "      <td>2.0</td>\n",
       "      <td>0.0</td>\n",
       "      <td>134.0</td>\n",
       "      <td>150.0</td>\n",
       "      <td>1900.0</td>\n",
       "      <td>Yarra</td>\n",
       "      <td>-37.8093</td>\n",
       "      <td>144.9944</td>\n",
       "      <td>Northern Metropolitan</td>\n",
       "      <td>4019.0</td>\n",
       "    </tr>\n",
       "    <tr>\n",
       "      <th>3</th>\n",
       "      <td>Abbotsford</td>\n",
       "      <td>40 Federation La</td>\n",
       "      <td>3</td>\n",
       "      <td>h</td>\n",
       "      <td>850000.0</td>\n",
       "      <td>PI</td>\n",
       "      <td>Biggin</td>\n",
       "      <td>4/03/2017</td>\n",
       "      <td>2.5</td>\n",
       "      <td>3067.0</td>\n",
       "      <td>...</td>\n",
       "      <td>2.0</td>\n",
       "      <td>1.0</td>\n",
       "      <td>94.0</td>\n",
       "      <td>NaN</td>\n",
       "      <td>NaN</td>\n",
       "      <td>Yarra</td>\n",
       "      <td>-37.7969</td>\n",
       "      <td>144.9969</td>\n",
       "      <td>Northern Metropolitan</td>\n",
       "      <td>4019.0</td>\n",
       "    </tr>\n",
       "    <tr>\n",
       "      <th>4</th>\n",
       "      <td>Abbotsford</td>\n",
       "      <td>55a Park St</td>\n",
       "      <td>4</td>\n",
       "      <td>h</td>\n",
       "      <td>1600000.0</td>\n",
       "      <td>VB</td>\n",
       "      <td>Nelson</td>\n",
       "      <td>4/06/2016</td>\n",
       "      <td>2.5</td>\n",
       "      <td>3067.0</td>\n",
       "      <td>...</td>\n",
       "      <td>1.0</td>\n",
       "      <td>2.0</td>\n",
       "      <td>120.0</td>\n",
       "      <td>142.0</td>\n",
       "      <td>2014.0</td>\n",
       "      <td>Yarra</td>\n",
       "      <td>-37.8072</td>\n",
       "      <td>144.9941</td>\n",
       "      <td>Northern Metropolitan</td>\n",
       "      <td>4019.0</td>\n",
       "    </tr>\n",
       "  </tbody>\n",
       "</table>\n",
       "<p>5 rows × 21 columns</p>\n",
       "</div>"
      ],
      "text/plain": [
       "       Suburb           Address  Rooms Type      Price Method SellerG  \\\n",
       "0  Abbotsford      85 Turner St      2    h  1480000.0      S  Biggin   \n",
       "1  Abbotsford   25 Bloomburg St      2    h  1035000.0      S  Biggin   \n",
       "2  Abbotsford      5 Charles St      3    h  1465000.0     SP  Biggin   \n",
       "3  Abbotsford  40 Federation La      3    h   850000.0     PI  Biggin   \n",
       "4  Abbotsford       55a Park St      4    h  1600000.0     VB  Nelson   \n",
       "\n",
       "        Date  Distance  Postcode  ...  Bathroom  Car  Landsize  BuildingArea  \\\n",
       "0  3/12/2016       2.5    3067.0  ...       1.0  1.0     202.0           NaN   \n",
       "1  4/02/2016       2.5    3067.0  ...       1.0  0.0     156.0          79.0   \n",
       "2  4/03/2017       2.5    3067.0  ...       2.0  0.0     134.0         150.0   \n",
       "3  4/03/2017       2.5    3067.0  ...       2.0  1.0      94.0           NaN   \n",
       "4  4/06/2016       2.5    3067.0  ...       1.0  2.0     120.0         142.0   \n",
       "\n",
       "   YearBuilt  CouncilArea Lattitude  Longtitude             Regionname  \\\n",
       "0        NaN        Yarra  -37.7996    144.9984  Northern Metropolitan   \n",
       "1     1900.0        Yarra  -37.8079    144.9934  Northern Metropolitan   \n",
       "2     1900.0        Yarra  -37.8093    144.9944  Northern Metropolitan   \n",
       "3        NaN        Yarra  -37.7969    144.9969  Northern Metropolitan   \n",
       "4     2014.0        Yarra  -37.8072    144.9941  Northern Metropolitan   \n",
       "\n",
       "  Propertycount  \n",
       "0        4019.0  \n",
       "1        4019.0  \n",
       "2        4019.0  \n",
       "3        4019.0  \n",
       "4        4019.0  \n",
       "\n",
       "[5 rows x 21 columns]"
      ]
     },
     "execution_count": 3,
     "metadata": {},
     "output_type": "execute_result"
    }
   ],
   "source": [
    "data.head()"
   ]
  },
  {
   "cell_type": "code",
   "execution_count": 4,
   "id": "67c8d8cd",
   "metadata": {},
   "outputs": [
    {
     "data": {
      "text/html": [
       "<div>\n",
       "<style scoped>\n",
       "    .dataframe tbody tr th:only-of-type {\n",
       "        vertical-align: middle;\n",
       "    }\n",
       "\n",
       "    .dataframe tbody tr th {\n",
       "        vertical-align: top;\n",
       "    }\n",
       "\n",
       "    .dataframe thead th {\n",
       "        text-align: right;\n",
       "    }\n",
       "</style>\n",
       "<table border=\"1\" class=\"dataframe\">\n",
       "  <thead>\n",
       "    <tr style=\"text-align: right;\">\n",
       "      <th></th>\n",
       "      <th>Rooms</th>\n",
       "      <th>Price</th>\n",
       "      <th>Distance</th>\n",
       "      <th>Postcode</th>\n",
       "      <th>Bedroom2</th>\n",
       "      <th>Bathroom</th>\n",
       "      <th>Car</th>\n",
       "      <th>Landsize</th>\n",
       "      <th>BuildingArea</th>\n",
       "      <th>YearBuilt</th>\n",
       "      <th>Lattitude</th>\n",
       "      <th>Longtitude</th>\n",
       "      <th>Propertycount</th>\n",
       "    </tr>\n",
       "  </thead>\n",
       "  <tbody>\n",
       "    <tr>\n",
       "      <th>count</th>\n",
       "      <td>13580.000000</td>\n",
       "      <td>1.358000e+04</td>\n",
       "      <td>13580.000000</td>\n",
       "      <td>13580.000000</td>\n",
       "      <td>13580.000000</td>\n",
       "      <td>13580.000000</td>\n",
       "      <td>13518.000000</td>\n",
       "      <td>13580.000000</td>\n",
       "      <td>7130.000000</td>\n",
       "      <td>8205.000000</td>\n",
       "      <td>13580.000000</td>\n",
       "      <td>13580.000000</td>\n",
       "      <td>13580.000000</td>\n",
       "    </tr>\n",
       "    <tr>\n",
       "      <th>mean</th>\n",
       "      <td>2.937997</td>\n",
       "      <td>1.075684e+06</td>\n",
       "      <td>10.137776</td>\n",
       "      <td>3105.301915</td>\n",
       "      <td>2.914728</td>\n",
       "      <td>1.534242</td>\n",
       "      <td>1.610075</td>\n",
       "      <td>558.416127</td>\n",
       "      <td>151.967650</td>\n",
       "      <td>1964.684217</td>\n",
       "      <td>-37.809203</td>\n",
       "      <td>144.995216</td>\n",
       "      <td>7454.417378</td>\n",
       "    </tr>\n",
       "    <tr>\n",
       "      <th>std</th>\n",
       "      <td>0.955748</td>\n",
       "      <td>6.393107e+05</td>\n",
       "      <td>5.868725</td>\n",
       "      <td>90.676964</td>\n",
       "      <td>0.965921</td>\n",
       "      <td>0.691712</td>\n",
       "      <td>0.962634</td>\n",
       "      <td>3990.669241</td>\n",
       "      <td>541.014538</td>\n",
       "      <td>37.273762</td>\n",
       "      <td>0.079260</td>\n",
       "      <td>0.103916</td>\n",
       "      <td>4378.581772</td>\n",
       "    </tr>\n",
       "    <tr>\n",
       "      <th>min</th>\n",
       "      <td>1.000000</td>\n",
       "      <td>8.500000e+04</td>\n",
       "      <td>0.000000</td>\n",
       "      <td>3000.000000</td>\n",
       "      <td>0.000000</td>\n",
       "      <td>0.000000</td>\n",
       "      <td>0.000000</td>\n",
       "      <td>0.000000</td>\n",
       "      <td>0.000000</td>\n",
       "      <td>1196.000000</td>\n",
       "      <td>-38.182550</td>\n",
       "      <td>144.431810</td>\n",
       "      <td>249.000000</td>\n",
       "    </tr>\n",
       "    <tr>\n",
       "      <th>25%</th>\n",
       "      <td>2.000000</td>\n",
       "      <td>6.500000e+05</td>\n",
       "      <td>6.100000</td>\n",
       "      <td>3044.000000</td>\n",
       "      <td>2.000000</td>\n",
       "      <td>1.000000</td>\n",
       "      <td>1.000000</td>\n",
       "      <td>177.000000</td>\n",
       "      <td>93.000000</td>\n",
       "      <td>1940.000000</td>\n",
       "      <td>-37.856822</td>\n",
       "      <td>144.929600</td>\n",
       "      <td>4380.000000</td>\n",
       "    </tr>\n",
       "    <tr>\n",
       "      <th>50%</th>\n",
       "      <td>3.000000</td>\n",
       "      <td>9.030000e+05</td>\n",
       "      <td>9.200000</td>\n",
       "      <td>3084.000000</td>\n",
       "      <td>3.000000</td>\n",
       "      <td>1.000000</td>\n",
       "      <td>2.000000</td>\n",
       "      <td>440.000000</td>\n",
       "      <td>126.000000</td>\n",
       "      <td>1970.000000</td>\n",
       "      <td>-37.802355</td>\n",
       "      <td>145.000100</td>\n",
       "      <td>6555.000000</td>\n",
       "    </tr>\n",
       "    <tr>\n",
       "      <th>75%</th>\n",
       "      <td>3.000000</td>\n",
       "      <td>1.330000e+06</td>\n",
       "      <td>13.000000</td>\n",
       "      <td>3148.000000</td>\n",
       "      <td>3.000000</td>\n",
       "      <td>2.000000</td>\n",
       "      <td>2.000000</td>\n",
       "      <td>651.000000</td>\n",
       "      <td>174.000000</td>\n",
       "      <td>1999.000000</td>\n",
       "      <td>-37.756400</td>\n",
       "      <td>145.058305</td>\n",
       "      <td>10331.000000</td>\n",
       "    </tr>\n",
       "    <tr>\n",
       "      <th>max</th>\n",
       "      <td>10.000000</td>\n",
       "      <td>9.000000e+06</td>\n",
       "      <td>48.100000</td>\n",
       "      <td>3977.000000</td>\n",
       "      <td>20.000000</td>\n",
       "      <td>8.000000</td>\n",
       "      <td>10.000000</td>\n",
       "      <td>433014.000000</td>\n",
       "      <td>44515.000000</td>\n",
       "      <td>2018.000000</td>\n",
       "      <td>-37.408530</td>\n",
       "      <td>145.526350</td>\n",
       "      <td>21650.000000</td>\n",
       "    </tr>\n",
       "  </tbody>\n",
       "</table>\n",
       "</div>"
      ],
      "text/plain": [
       "              Rooms         Price      Distance      Postcode      Bedroom2  \\\n",
       "count  13580.000000  1.358000e+04  13580.000000  13580.000000  13580.000000   \n",
       "mean       2.937997  1.075684e+06     10.137776   3105.301915      2.914728   \n",
       "std        0.955748  6.393107e+05      5.868725     90.676964      0.965921   \n",
       "min        1.000000  8.500000e+04      0.000000   3000.000000      0.000000   \n",
       "25%        2.000000  6.500000e+05      6.100000   3044.000000      2.000000   \n",
       "50%        3.000000  9.030000e+05      9.200000   3084.000000      3.000000   \n",
       "75%        3.000000  1.330000e+06     13.000000   3148.000000      3.000000   \n",
       "max       10.000000  9.000000e+06     48.100000   3977.000000     20.000000   \n",
       "\n",
       "           Bathroom           Car       Landsize  BuildingArea    YearBuilt  \\\n",
       "count  13580.000000  13518.000000   13580.000000   7130.000000  8205.000000   \n",
       "mean       1.534242      1.610075     558.416127    151.967650  1964.684217   \n",
       "std        0.691712      0.962634    3990.669241    541.014538    37.273762   \n",
       "min        0.000000      0.000000       0.000000      0.000000  1196.000000   \n",
       "25%        1.000000      1.000000     177.000000     93.000000  1940.000000   \n",
       "50%        1.000000      2.000000     440.000000    126.000000  1970.000000   \n",
       "75%        2.000000      2.000000     651.000000    174.000000  1999.000000   \n",
       "max        8.000000     10.000000  433014.000000  44515.000000  2018.000000   \n",
       "\n",
       "          Lattitude    Longtitude  Propertycount  \n",
       "count  13580.000000  13580.000000   13580.000000  \n",
       "mean     -37.809203    144.995216    7454.417378  \n",
       "std        0.079260      0.103916    4378.581772  \n",
       "min      -38.182550    144.431810     249.000000  \n",
       "25%      -37.856822    144.929600    4380.000000  \n",
       "50%      -37.802355    145.000100    6555.000000  \n",
       "75%      -37.756400    145.058305   10331.000000  \n",
       "max      -37.408530    145.526350   21650.000000  "
      ]
     },
     "execution_count": 4,
     "metadata": {},
     "output_type": "execute_result"
    }
   ],
   "source": [
    "data.describe()"
   ]
  },
  {
   "cell_type": "code",
   "execution_count": 5,
   "id": "913a9e1c",
   "metadata": {},
   "outputs": [],
   "source": [
    "obj_cats = ['Suburb', 'Address', 'Type', 'Method', 'SellerG', 'CouncilArea','Regionname','Postcode']\n",
    "\n",
    "for colname in obj_cats:\n",
    "    data[colname] = data[colname].astype('category')  \n"
   ]
  },
  {
   "cell_type": "code",
   "execution_count": 6,
   "id": "ba7da1b7",
   "metadata": {},
   "outputs": [
    {
     "data": {
      "text/html": [
       "<div>\n",
       "<style scoped>\n",
       "    .dataframe tbody tr th:only-of-type {\n",
       "        vertical-align: middle;\n",
       "    }\n",
       "\n",
       "    .dataframe tbody tr th {\n",
       "        vertical-align: top;\n",
       "    }\n",
       "\n",
       "    .dataframe thead th {\n",
       "        text-align: right;\n",
       "    }\n",
       "</style>\n",
       "<table border=\"1\" class=\"dataframe\">\n",
       "  <thead>\n",
       "    <tr style=\"text-align: right;\">\n",
       "      <th></th>\n",
       "      <th>Rooms</th>\n",
       "      <th>Price</th>\n",
       "      <th>Distance</th>\n",
       "      <th>Bedroom2</th>\n",
       "      <th>Bathroom</th>\n",
       "      <th>Car</th>\n",
       "      <th>Landsize</th>\n",
       "      <th>BuildingArea</th>\n",
       "      <th>YearBuilt</th>\n",
       "      <th>Lattitude</th>\n",
       "      <th>Longtitude</th>\n",
       "      <th>Propertycount</th>\n",
       "    </tr>\n",
       "  </thead>\n",
       "  <tbody>\n",
       "    <tr>\n",
       "      <th>count</th>\n",
       "      <td>13580.000000</td>\n",
       "      <td>1.358000e+04</td>\n",
       "      <td>13580.000000</td>\n",
       "      <td>13580.000000</td>\n",
       "      <td>13580.000000</td>\n",
       "      <td>13518.000000</td>\n",
       "      <td>13580.000000</td>\n",
       "      <td>7130.000000</td>\n",
       "      <td>8205.000000</td>\n",
       "      <td>13580.000000</td>\n",
       "      <td>13580.000000</td>\n",
       "      <td>13580.000000</td>\n",
       "    </tr>\n",
       "    <tr>\n",
       "      <th>mean</th>\n",
       "      <td>2.937997</td>\n",
       "      <td>1.075684e+06</td>\n",
       "      <td>10.137776</td>\n",
       "      <td>2.914728</td>\n",
       "      <td>1.534242</td>\n",
       "      <td>1.610075</td>\n",
       "      <td>558.416127</td>\n",
       "      <td>151.967650</td>\n",
       "      <td>1964.684217</td>\n",
       "      <td>-37.809203</td>\n",
       "      <td>144.995216</td>\n",
       "      <td>7454.417378</td>\n",
       "    </tr>\n",
       "    <tr>\n",
       "      <th>std</th>\n",
       "      <td>0.955748</td>\n",
       "      <td>6.393107e+05</td>\n",
       "      <td>5.868725</td>\n",
       "      <td>0.965921</td>\n",
       "      <td>0.691712</td>\n",
       "      <td>0.962634</td>\n",
       "      <td>3990.669241</td>\n",
       "      <td>541.014538</td>\n",
       "      <td>37.273762</td>\n",
       "      <td>0.079260</td>\n",
       "      <td>0.103916</td>\n",
       "      <td>4378.581772</td>\n",
       "    </tr>\n",
       "    <tr>\n",
       "      <th>min</th>\n",
       "      <td>1.000000</td>\n",
       "      <td>8.500000e+04</td>\n",
       "      <td>0.000000</td>\n",
       "      <td>0.000000</td>\n",
       "      <td>0.000000</td>\n",
       "      <td>0.000000</td>\n",
       "      <td>0.000000</td>\n",
       "      <td>0.000000</td>\n",
       "      <td>1196.000000</td>\n",
       "      <td>-38.182550</td>\n",
       "      <td>144.431810</td>\n",
       "      <td>249.000000</td>\n",
       "    </tr>\n",
       "    <tr>\n",
       "      <th>25%</th>\n",
       "      <td>2.000000</td>\n",
       "      <td>6.500000e+05</td>\n",
       "      <td>6.100000</td>\n",
       "      <td>2.000000</td>\n",
       "      <td>1.000000</td>\n",
       "      <td>1.000000</td>\n",
       "      <td>177.000000</td>\n",
       "      <td>93.000000</td>\n",
       "      <td>1940.000000</td>\n",
       "      <td>-37.856822</td>\n",
       "      <td>144.929600</td>\n",
       "      <td>4380.000000</td>\n",
       "    </tr>\n",
       "    <tr>\n",
       "      <th>50%</th>\n",
       "      <td>3.000000</td>\n",
       "      <td>9.030000e+05</td>\n",
       "      <td>9.200000</td>\n",
       "      <td>3.000000</td>\n",
       "      <td>1.000000</td>\n",
       "      <td>2.000000</td>\n",
       "      <td>440.000000</td>\n",
       "      <td>126.000000</td>\n",
       "      <td>1970.000000</td>\n",
       "      <td>-37.802355</td>\n",
       "      <td>145.000100</td>\n",
       "      <td>6555.000000</td>\n",
       "    </tr>\n",
       "    <tr>\n",
       "      <th>75%</th>\n",
       "      <td>3.000000</td>\n",
       "      <td>1.330000e+06</td>\n",
       "      <td>13.000000</td>\n",
       "      <td>3.000000</td>\n",
       "      <td>2.000000</td>\n",
       "      <td>2.000000</td>\n",
       "      <td>651.000000</td>\n",
       "      <td>174.000000</td>\n",
       "      <td>1999.000000</td>\n",
       "      <td>-37.756400</td>\n",
       "      <td>145.058305</td>\n",
       "      <td>10331.000000</td>\n",
       "    </tr>\n",
       "    <tr>\n",
       "      <th>max</th>\n",
       "      <td>10.000000</td>\n",
       "      <td>9.000000e+06</td>\n",
       "      <td>48.100000</td>\n",
       "      <td>20.000000</td>\n",
       "      <td>8.000000</td>\n",
       "      <td>10.000000</td>\n",
       "      <td>433014.000000</td>\n",
       "      <td>44515.000000</td>\n",
       "      <td>2018.000000</td>\n",
       "      <td>-37.408530</td>\n",
       "      <td>145.526350</td>\n",
       "      <td>21650.000000</td>\n",
       "    </tr>\n",
       "  </tbody>\n",
       "</table>\n",
       "</div>"
      ],
      "text/plain": [
       "              Rooms         Price      Distance      Bedroom2      Bathroom  \\\n",
       "count  13580.000000  1.358000e+04  13580.000000  13580.000000  13580.000000   \n",
       "mean       2.937997  1.075684e+06     10.137776      2.914728      1.534242   \n",
       "std        0.955748  6.393107e+05      5.868725      0.965921      0.691712   \n",
       "min        1.000000  8.500000e+04      0.000000      0.000000      0.000000   \n",
       "25%        2.000000  6.500000e+05      6.100000      2.000000      1.000000   \n",
       "50%        3.000000  9.030000e+05      9.200000      3.000000      1.000000   \n",
       "75%        3.000000  1.330000e+06     13.000000      3.000000      2.000000   \n",
       "max       10.000000  9.000000e+06     48.100000     20.000000      8.000000   \n",
       "\n",
       "                Car       Landsize  BuildingArea    YearBuilt     Lattitude  \\\n",
       "count  13518.000000   13580.000000   7130.000000  8205.000000  13580.000000   \n",
       "mean       1.610075     558.416127    151.967650  1964.684217    -37.809203   \n",
       "std        0.962634    3990.669241    541.014538    37.273762      0.079260   \n",
       "min        0.000000       0.000000      0.000000  1196.000000    -38.182550   \n",
       "25%        1.000000     177.000000     93.000000  1940.000000    -37.856822   \n",
       "50%        2.000000     440.000000    126.000000  1970.000000    -37.802355   \n",
       "75%        2.000000     651.000000    174.000000  1999.000000    -37.756400   \n",
       "max       10.000000  433014.000000  44515.000000  2018.000000    -37.408530   \n",
       "\n",
       "         Longtitude  Propertycount  \n",
       "count  13580.000000   13580.000000  \n",
       "mean     144.995216    7454.417378  \n",
       "std        0.103916    4378.581772  \n",
       "min      144.431810     249.000000  \n",
       "25%      144.929600    4380.000000  \n",
       "50%      145.000100    6555.000000  \n",
       "75%      145.058305   10331.000000  \n",
       "max      145.526350   21650.000000  "
      ]
     },
     "execution_count": 6,
     "metadata": {},
     "output_type": "execute_result"
    }
   ],
   "source": [
    "data.describe()"
   ]
  },
  {
   "cell_type": "code",
   "execution_count": 7,
   "id": "78578091",
   "metadata": {},
   "outputs": [
    {
     "name": "stdout",
     "output_type": "stream",
     "text": [
      "<class 'pandas.core.frame.DataFrame'>\n",
      "RangeIndex: 13580 entries, 0 to 13579\n",
      "Data columns (total 21 columns):\n",
      " #   Column         Non-Null Count  Dtype   \n",
      "---  ------         --------------  -----   \n",
      " 0   Suburb         13580 non-null  category\n",
      " 1   Address        13580 non-null  category\n",
      " 2   Rooms          13580 non-null  int64   \n",
      " 3   Type           13580 non-null  category\n",
      " 4   Price          13580 non-null  float64 \n",
      " 5   Method         13580 non-null  category\n",
      " 6   SellerG        13580 non-null  category\n",
      " 7   Date           13580 non-null  object  \n",
      " 8   Distance       13580 non-null  float64 \n",
      " 9   Postcode       13580 non-null  category\n",
      " 10  Bedroom2       13580 non-null  float64 \n",
      " 11  Bathroom       13580 non-null  float64 \n",
      " 12  Car            13518 non-null  float64 \n",
      " 13  Landsize       13580 non-null  float64 \n",
      " 14  BuildingArea   7130 non-null   float64 \n",
      " 15  YearBuilt      8205 non-null   float64 \n",
      " 16  CouncilArea    12211 non-null  category\n",
      " 17  Lattitude      13580 non-null  float64 \n",
      " 18  Longtitude     13580 non-null  float64 \n",
      " 19  Regionname     13580 non-null  category\n",
      " 20  Propertycount  13580 non-null  float64 \n",
      "dtypes: category(8), float64(11), int64(1), object(1)\n",
      "memory usage: 2.1+ MB\n"
     ]
    }
   ],
   "source": [
    "data.info()"
   ]
  },
  {
   "cell_type": "code",
   "execution_count": 8,
   "id": "cda2e2b7",
   "metadata": {},
   "outputs": [],
   "source": [
    "data[\"Date\"] = pd.to_datetime(data[\"Date\"])"
   ]
  },
  {
   "cell_type": "code",
   "execution_count": 9,
   "id": "ee662bfe",
   "metadata": {},
   "outputs": [
    {
     "name": "stdout",
     "output_type": "stream",
     "text": [
      "<class 'pandas.core.frame.DataFrame'>\n",
      "RangeIndex: 13580 entries, 0 to 13579\n",
      "Data columns (total 21 columns):\n",
      " #   Column         Non-Null Count  Dtype         \n",
      "---  ------         --------------  -----         \n",
      " 0   Suburb         13580 non-null  category      \n",
      " 1   Address        13580 non-null  category      \n",
      " 2   Rooms          13580 non-null  int64         \n",
      " 3   Type           13580 non-null  category      \n",
      " 4   Price          13580 non-null  float64       \n",
      " 5   Method         13580 non-null  category      \n",
      " 6   SellerG        13580 non-null  category      \n",
      " 7   Date           13580 non-null  datetime64[ns]\n",
      " 8   Distance       13580 non-null  float64       \n",
      " 9   Postcode       13580 non-null  category      \n",
      " 10  Bedroom2       13580 non-null  float64       \n",
      " 11  Bathroom       13580 non-null  float64       \n",
      " 12  Car            13518 non-null  float64       \n",
      " 13  Landsize       13580 non-null  float64       \n",
      " 14  BuildingArea   7130 non-null   float64       \n",
      " 15  YearBuilt      8205 non-null   float64       \n",
      " 16  CouncilArea    12211 non-null  category      \n",
      " 17  Lattitude      13580 non-null  float64       \n",
      " 18  Longtitude     13580 non-null  float64       \n",
      " 19  Regionname     13580 non-null  category      \n",
      " 20  Propertycount  13580 non-null  float64       \n",
      "dtypes: category(8), datetime64[ns](1), float64(11), int64(1)\n",
      "memory usage: 2.1 MB\n"
     ]
    }
   ],
   "source": [
    "data.info()"
   ]
  },
  {
   "cell_type": "code",
   "execution_count": 10,
   "id": "27f6528d",
   "metadata": {},
   "outputs": [],
   "source": [
    "data = data.drop([\"Bedroom2\"],1)\n"
   ]
  },
  {
   "cell_type": "code",
   "execution_count": 11,
   "id": "e6a535d5",
   "metadata": {},
   "outputs": [
    {
     "data": {
      "text/plain": [
       "0          NaN\n",
       "1        118.0\n",
       "2        118.0\n",
       "3          NaN\n",
       "4          4.0\n",
       "         ...  \n",
       "13575     37.0\n",
       "13576     23.0\n",
       "13577     21.0\n",
       "13578     98.0\n",
       "13579     98.0\n",
       "Name: Age, Length: 13580, dtype: float64"
      ]
     },
     "execution_count": 11,
     "metadata": {},
     "output_type": "execute_result"
    }
   ],
   "source": [
    "data['Age'] = 2018 - data['YearBuilt']\n",
    "data['Age']"
   ]
  },
  {
   "cell_type": "code",
   "execution_count": 12,
   "id": "167eb824",
   "metadata": {},
   "outputs": [
    {
     "name": "stdout",
     "output_type": "stream",
     "text": [
      "<class 'pandas.core.frame.DataFrame'>\n",
      "RangeIndex: 13580 entries, 0 to 13579\n",
      "Data columns (total 21 columns):\n",
      " #   Column         Non-Null Count  Dtype         \n",
      "---  ------         --------------  -----         \n",
      " 0   Suburb         13580 non-null  category      \n",
      " 1   Address        13580 non-null  category      \n",
      " 2   Rooms          13580 non-null  int64         \n",
      " 3   Type           13580 non-null  category      \n",
      " 4   Price          13580 non-null  float64       \n",
      " 5   Method         13580 non-null  category      \n",
      " 6   SellerG        13580 non-null  category      \n",
      " 7   Date           13580 non-null  datetime64[ns]\n",
      " 8   Distance       13580 non-null  float64       \n",
      " 9   Postcode       13580 non-null  category      \n",
      " 10  Bathroom       13580 non-null  float64       \n",
      " 11  Car            13518 non-null  float64       \n",
      " 12  Landsize       13580 non-null  float64       \n",
      " 13  BuildingArea   7130 non-null   float64       \n",
      " 14  YearBuilt      8205 non-null   float64       \n",
      " 15  CouncilArea    12211 non-null  category      \n",
      " 16  Lattitude      13580 non-null  float64       \n",
      " 17  Longtitude     13580 non-null  float64       \n",
      " 18  Regionname     13580 non-null  category      \n",
      " 19  Propertycount  13580 non-null  float64       \n",
      " 20  Age            8205 non-null   float64       \n",
      "dtypes: category(8), datetime64[ns](1), float64(11), int64(1)\n",
      "memory usage: 2.1 MB\n"
     ]
    }
   ],
   "source": [
    "data.info()"
   ]
  },
  {
   "cell_type": "code",
   "execution_count": 13,
   "id": "047cdd10",
   "metadata": {},
   "outputs": [
    {
     "data": {
      "text/plain": [
       "Suburb              0\n",
       "Address             0\n",
       "Rooms               0\n",
       "Type                0\n",
       "Price               0\n",
       "Method              0\n",
       "SellerG             0\n",
       "Date                0\n",
       "Distance            0\n",
       "Postcode            0\n",
       "Bathroom            0\n",
       "Car                62\n",
       "Landsize            0\n",
       "BuildingArea     6450\n",
       "YearBuilt        5375\n",
       "CouncilArea      1369\n",
       "Lattitude           0\n",
       "Longtitude          0\n",
       "Regionname          0\n",
       "Propertycount       0\n",
       "Age              5375\n",
       "dtype: int64"
      ]
     },
     "execution_count": 13,
     "metadata": {},
     "output_type": "execute_result"
    }
   ],
   "source": [
    "data.isnull().sum()"
   ]
  },
  {
   "cell_type": "code",
   "execution_count": 14,
   "id": "954a9648",
   "metadata": {},
   "outputs": [
    {
     "data": {
      "text/plain": [
       "Suburb            0.000000\n",
       "Address           0.000000\n",
       "Rooms             0.000000\n",
       "Type              0.000000\n",
       "Price             0.000000\n",
       "Method            0.000000\n",
       "SellerG           0.000000\n",
       "Date              0.000000\n",
       "Distance          0.000000\n",
       "Postcode          0.000000\n",
       "Bathroom          0.000000\n",
       "Car               0.456554\n",
       "Landsize          0.000000\n",
       "BuildingArea     47.496318\n",
       "YearBuilt        39.580265\n",
       "CouncilArea      10.081001\n",
       "Lattitude         0.000000\n",
       "Longtitude        0.000000\n",
       "Regionname        0.000000\n",
       "Propertycount     0.000000\n",
       "Age              39.580265\n",
       "dtype: float64"
      ]
     },
     "execution_count": 14,
     "metadata": {},
     "output_type": "execute_result"
    }
   ],
   "source": [
    "(data.isnull().sum()/len(data))*100"
   ]
  },
  {
   "cell_type": "code",
   "execution_count": 15,
   "id": "885b9d7b",
   "metadata": {},
   "outputs": [],
   "source": [
    "data = data.dropna()"
   ]
  },
  {
   "cell_type": "code",
   "execution_count": 16,
   "id": "f9ab291d",
   "metadata": {},
   "outputs": [
    {
     "name": "stdout",
     "output_type": "stream",
     "text": [
      "<class 'pandas.core.frame.DataFrame'>\n",
      "Int64Index: 6196 entries, 1 to 12212\n",
      "Data columns (total 21 columns):\n",
      " #   Column         Non-Null Count  Dtype         \n",
      "---  ------         --------------  -----         \n",
      " 0   Suburb         6196 non-null   category      \n",
      " 1   Address        6196 non-null   category      \n",
      " 2   Rooms          6196 non-null   int64         \n",
      " 3   Type           6196 non-null   category      \n",
      " 4   Price          6196 non-null   float64       \n",
      " 5   Method         6196 non-null   category      \n",
      " 6   SellerG        6196 non-null   category      \n",
      " 7   Date           6196 non-null   datetime64[ns]\n",
      " 8   Distance       6196 non-null   float64       \n",
      " 9   Postcode       6196 non-null   category      \n",
      " 10  Bathroom       6196 non-null   float64       \n",
      " 11  Car            6196 non-null   float64       \n",
      " 12  Landsize       6196 non-null   float64       \n",
      " 13  BuildingArea   6196 non-null   float64       \n",
      " 14  YearBuilt      6196 non-null   float64       \n",
      " 15  CouncilArea    6196 non-null   category      \n",
      " 16  Lattitude      6196 non-null   float64       \n",
      " 17  Longtitude     6196 non-null   float64       \n",
      " 18  Regionname     6196 non-null   category      \n",
      " 19  Propertycount  6196 non-null   float64       \n",
      " 20  Age            6196 non-null   float64       \n",
      "dtypes: category(8), datetime64[ns](1), float64(11), int64(1)\n",
      "memory usage: 1.4 MB\n"
     ]
    }
   ],
   "source": [
    "data.info()"
   ]
  },
  {
   "cell_type": "code",
   "execution_count": 17,
   "id": "e0db9e8d",
   "metadata": {},
   "outputs": [
    {
     "data": {
      "text/plain": [
       "Suburb           0\n",
       "Address          0\n",
       "Rooms            0\n",
       "Type             0\n",
       "Price            0\n",
       "Method           0\n",
       "SellerG          0\n",
       "Date             0\n",
       "Distance         0\n",
       "Postcode         0\n",
       "Bathroom         0\n",
       "Car              0\n",
       "Landsize         0\n",
       "BuildingArea     0\n",
       "YearBuilt        0\n",
       "CouncilArea      0\n",
       "Lattitude        0\n",
       "Longtitude       0\n",
       "Regionname       0\n",
       "Propertycount    0\n",
       "Age              0\n",
       "dtype: int64"
      ]
     },
     "execution_count": 17,
     "metadata": {},
     "output_type": "execute_result"
    }
   ],
   "source": [
    "data.isnull().sum()"
   ]
  },
  {
   "cell_type": "code",
   "execution_count": 18,
   "id": "110cae1e",
   "metadata": {},
   "outputs": [
    {
     "data": {
      "text/plain": [
       "['Northern Metropolitan', 'Western Metropolitan', 'Southern Metropolitan', 'Eastern Metropolitan', 'South-Eastern Metropolitan', 'Northern Victoria', 'Eastern Victoria', 'Western Victoria']\n",
       "Categories (8, object): ['Eastern Metropolitan', 'Eastern Victoria', 'Northern Metropolitan', 'Northern Victoria', 'South-Eastern Metropolitan', 'Southern Metropolitan', 'Western Metropolitan', 'Western Victoria']"
      ]
     },
     "execution_count": 18,
     "metadata": {},
     "output_type": "execute_result"
    }
   ],
   "source": [
    "data['Regionname'].unique()"
   ]
  },
  {
   "cell_type": "code",
   "execution_count": 19,
   "id": "612617c3",
   "metadata": {},
   "outputs": [],
   "source": [
    "all_regions = data['Price'].values"
   ]
  },
  {
   "cell_type": "code",
   "execution_count": 20,
   "id": "99848b6f",
   "metadata": {},
   "outputs": [
    {
     "data": {
      "text/plain": [
       "array([1035000., 1465000., 1600000., ...,  385000.,  560000., 2450000.])"
      ]
     },
     "execution_count": 20,
     "metadata": {},
     "output_type": "execute_result"
    }
   ],
   "source": [
    "all_regions"
   ]
  },
  {
   "cell_type": "code",
   "execution_count": 21,
   "id": "eef94c6c",
   "metadata": {},
   "outputs": [],
   "source": [
    "northern_metropolitan = data['Price'].loc[data['Regionname'] == 'Northern Metropolitan'].values\n",
    "southern_metropolitan = data['Price'].loc[data['Regionname'] == 'Southern Metropolitan'].values\n",
    "eastern_metropolitan = data['Price'].loc[data['Regionname'] == 'Eastern Metropolitan'].values\n",
    "western_metropolitan = data['Price'].loc[data['Regionname'] == 'Western Metropolitan'].values\n",
    "southeastern_metropolitan = data['Price'].loc[data['Regionname'] == 'South-Eastern Metropolitan'].values\n",
    "northern_victoria = data['Price'].loc[data['Regionname'] == 'Northern Victoria'].values\n",
    "eastern_victoria = data['Price'].loc[data['Regionname'] == 'Eastern Victoria'].values\n",
    "western_victoria = data['Price'].loc[data['Regionname'] == 'Western Victoria'].values"
   ]
  },
  {
   "cell_type": "code",
   "execution_count": 22,
   "id": "1daccd2b",
   "metadata": {},
   "outputs": [
    {
     "data": {
      "image/png": "[encoded data removed]",
      "text/plain": [
       "<Figure size 1200x1000 with 8 Axes>"
      ]
     },
     "metadata": {},
     "output_type": "display_data"
    }
   ],
   "source": [
    "fig, axs = plt.subplots(3, 3, figsize=(12, 10))\n",
    "\n",
    "axs[0, 0].hist(northern_metropolitan, bins='auto')\n",
    "axs[0, 0].set_xlabel(\"Price in Millions\")\n",
    "axs[0, 0].set_ylabel(\"No. of houses\")\n",
    "axs[0, 0].set_title(\"Northern Metropolitan\")\n",
    "\n",
    "axs[0, 1].hist(southern_metropolitan, bins='auto')\n",
    "axs[0, 1].set_xlabel(\"Price in Millions\")\n",
    "axs[0, 1].set_ylabel(\"No. of houses\")\n",
    "axs[0, 1].set_title(\"Southern Metropolitan\")\n",
    "\n",
    "axs[0, 2].hist(eastern_metropolitan, bins='auto')\n",
    "axs[0, 2].set_xlabel(\"Price in Millions\")\n",
    "axs[0, 2].set_ylabel(\"No. of houses\")\n",
    "axs[0, 2].set_title(\"Eastern Metropolitan\")\n",
    "\n",
    "axs[1, 0].hist(western_metropolitan, bins='auto')\n",
    "axs[1, 0].set_xlabel(\"Price in Millions\")\n",
    "axs[1, 0].set_ylabel(\"No. of houses\")\n",
    "axs[1, 0].set_title(\"Western Metropolitan\")\n",
    "\n",
    "axs[1, 1].hist(southeastern_metropolitan, bins='auto')\n",
    "axs[1, 1].set_xlabel(\"Price in Millions\")\n",
    "axs[1, 1].set_ylabel(\"No. of houses\")\n",
    "axs[1, 1].set_title(\"Southeastern Metropolitan\")\n",
    "\n",
    "axs[1, 2].hist(northern_victoria, bins='auto')\n",
    "axs[1, 2].set_xlabel(\"Price in Lakhs\")\n",
    "axs[1, 2].set_ylabel(\"No. of houses\")\n",
    "axs[1, 2].set_title(\"Northern Victoria\")\n",
    "\n",
    "axs[2, 0].hist(eastern_victoria, bins='auto')\n",
    "axs[2, 0].set_xlabel(\"Price in Lakhs\")\n",
    "axs[2, 0].set_ylabel(\"No. of houses\")\n",
    "axs[2, 0].set_title(\"Eastern Victoria\")\n",
    "\n",
    "axs[2, 1].hist(western_victoria, bins='auto')\n",
    "axs[2, 1].set_xlabel(\"Price in Lakhs\")\n",
    "axs[2, 1].set_ylabel(\"No. of houses\")\n",
    "axs[2, 1].set_title(\"Western Victoria\")\n",
    "\n",
    "\n",
    "fig.delaxes(axs[2, 2])\n",
    "\n",
    "fig.tight_layout()\n",
    "\n",
    "# display the figure\n",
    "plt.show()\n"
   ]
  },
  {
   "cell_type": "code",
   "execution_count": 23,
   "id": "f7e24032",
   "metadata": {},
   "outputs": [],
   "source": [
    "data['Date'] = pd.to_datetime(data['Date'], format=\"%d/%m/%Y\")"
   ]
  },
  {
   "cell_type": "code",
   "execution_count": 24,
   "id": "35dd45ae",
   "metadata": {},
   "outputs": [],
   "source": [
    "data[\"Month\"] = data[\"Date\"].dt.month\n",
    "data[\"year\"] = data[\"Date\"].dt.year"
   ]
  },
  {
   "cell_type": "code",
   "execution_count": 25,
   "id": "859b84af",
   "metadata": {},
   "outputs": [],
   "source": [
    "tot_price = data[\"Price\"].sum()"
   ]
  },
  {
   "cell_type": "code",
   "execution_count": 26,
   "id": "8b5c4c44",
   "metadata": {},
   "outputs": [
    {
     "data": {
      "text/plain": [
       "6622459540.0"
      ]
     },
     "execution_count": 26,
     "metadata": {},
     "output_type": "execute_result"
    }
   ],
   "source": [
    "tot_price"
   ]
  },
  {
   "cell_type": "code",
   "execution_count": 27,
   "id": "a89cda35",
   "metadata": {},
   "outputs": [],
   "source": [
    "def per_month_sales(data,month,sales = tot_price):\n",
    "    month_sales = data['Price'].loc[data['Month'] == month].sum()/sales\n",
    "    return month_sales"
   ]
  },
  {
   "cell_type": "code",
   "execution_count": 28,
   "id": "3c562e26",
   "metadata": {},
   "outputs": [],
   "source": [
    "january_sales = per_month_sales(data, 1)\n",
    "february_sales = per_month_sales(data, 2)\n",
    "march_sales = per_month_sales(data, 3)\n",
    "april_sales = per_month_sales(data, 4)\n",
    "may_sales = per_month_sales(data, 5)\n",
    "june_sales = per_month_sales(data, 6)\n",
    "july_sales = per_month_sales(data, 7)\n",
    "august_sales = per_month_sales(data, 8)\n",
    "september_sales = per_month_sales(data, 9)\n",
    "october_sales = per_month_sales(data, 10)\n",
    "november_sales = per_month_sales(data, 11)\n",
    "december_sales = per_month_sales(data, 12)\n"
   ]
  },
  {
   "cell_type": "code",
   "execution_count": 29,
   "id": "7fddcdb0",
   "metadata": {},
   "outputs": [],
   "source": [
    "month_total_sales = [january_sales, february_sales, march_sales, april_sales,may_sales, june_sales, july_sales, august_sales, september_sales, october_sales, november_sales, december_sales]\n",
    "\n",
    "labels = ['January', 'February', 'March', 'April','May', 'June', 'July', 'August', 'September', 'October', 'November', 'December']\n",
    "colors = ['#ffb4da', '#b4b4ff', '#daffb4', '#fbab60', '#fa8072', '#FA6006','#FDB603', '#639702', '#dacde6', '#faec72', '#9ab973', '#87cefa']\n",
    "\n"
   ]
  },
  {
   "cell_type": "code",
   "execution_count": 30,
   "id": "507ebba8",
   "metadata": {},
   "outputs": [
    {
     "data": {
      "text/plain": [
       "([<matplotlib.patches.Wedge at 0x1c4cdaaa050>,\n",
       "  <matplotlib.patches.Wedge at 0x1c4cdaaa680>,\n",
       "  <matplotlib.patches.Wedge at 0x1c4cdaaad10>,\n",
       "  <matplotlib.patches.Wedge at 0x1c4cdaab3a0>,\n",
       "  <matplotlib.patches.Wedge at 0x1c4cdaaba30>,\n",
       "  <matplotlib.patches.Wedge at 0x1c4cd4d4100>,\n",
       "  <matplotlib.patches.Wedge at 0x1c4cd4d4790>,\n",
       "  <matplotlib.patches.Wedge at 0x1c4cd4d4e20>,\n",
       "  <matplotlib.patches.Wedge at 0x1c4cd4d54b0>,\n",
       "  <matplotlib.patches.Wedge at 0x1c4cd4d5ae0>,\n",
       "  <matplotlib.patches.Wedge at 0x1c4cd4d60e0>,\n",
       "  <matplotlib.patches.Wedge at 0x1c4cd4d6740>],\n",
       " [Text(1.0988065638458604, 0.051226314031492914, 'January'),\n",
       "  Text(1.0792244034599139, 0.2127784927491342, 'February'),\n",
       "  Text(0.8878907955286601, 0.6493457747729503, 'March'),\n",
       "  Text(0.3072758751759974, 1.056210933731906, 'April'),\n",
       "  Text(-0.46266016521573455, 0.997970726786387, 'May'),\n",
       "  Text(-1.0137759941907811, 0.42691712732390263, 'June'),\n",
       "  Text(-1.0252122087431665, -0.3986727066704692, 'July'),\n",
       "  Text(-0.4491730199453301, -1.004113339296512, 'August'),\n",
       "  Text(0.06693488599821548, -1.097961620930534, 'September'),\n",
       "  Text(0.48292204381081155, -0.9883249969527174, 'October'),\n",
       "  Text(0.8962832199978206, -0.6377118389604655, 'November'),\n",
       "  Text(1.0797549627273595, -0.2100695610164373, 'December')],\n",
       " [Text(0.5993490348250147, 0.02794162583535977, '1.5%'),\n",
       "  Text(0.5886678564326802, 0.11606099604498228, '3.2%'),\n",
       "  Text(0.48430407028836003, 0.3541886044216092, '10.7%'),\n",
       "  Text(0.1676050228232713, 0.5761150547628578, '10.2%'),\n",
       "  Text(-0.25236009011767335, 0.544347669156211, '12.6%'),\n",
       "  Text(-0.5529687241040624, 0.2328638876312196, '10.9%'),\n",
       "  Text(-0.5592066593144545, -0.2174578400020741, '13.6%'),\n",
       "  Text(-0.24500346542472545, -0.5476981850708247, '11.2%'),\n",
       "  Text(0.03650993781720844, -0.5988881568712003, '4.1%'),\n",
       "  Text(0.2634120238968063, -0.5390863619742094, '8.4%'),\n",
       "  Text(0.4888817563624475, -0.34784282125116295, '7.5%'),\n",
       "  Text(0.5889572523967415, -0.1145833969180567, '6.1%')])"
      ]
     },
     "execution_count": 30,
     "metadata": {},
     "output_type": "execute_result"
    },
    {
     "data": {
      "image/png": "[encoded data removed]",
      "text/plain": [
       "<Figure size 640x480 with 1 Axes>"
      ]
     },
     "metadata": {},
     "output_type": "display_data"
    }
   ],
   "source": [
    "plt.pie(month_total_sales,labels = labels,colors=colors,autopct='%1.1f%%')"
   ]
  },
  {
   "cell_type": "code",
   "execution_count": 31,
   "id": "961a9f53",
   "metadata": {},
   "outputs": [
    {
     "data": {
      "text/plain": [
       "2018.0"
      ]
     },
     "execution_count": 31,
     "metadata": {},
     "output_type": "execute_result"
    }
   ],
   "source": [
    "data['YearBuilt'].max()"
   ]
  },
  {
   "cell_type": "code",
   "execution_count": 32,
   "id": "8c4e75f4",
   "metadata": {},
   "outputs": [
    {
     "data": {
      "text/html": [
       "<div>\n",
       "<style scoped>\n",
       "    .dataframe tbody tr th:only-of-type {\n",
       "        vertical-align: middle;\n",
       "    }\n",
       "\n",
       "    .dataframe tbody tr th {\n",
       "        vertical-align: top;\n",
       "    }\n",
       "\n",
       "    .dataframe thead th {\n",
       "        text-align: right;\n",
       "    }\n",
       "</style>\n",
       "<table border=\"1\" class=\"dataframe\">\n",
       "  <thead>\n",
       "    <tr style=\"text-align: right;\">\n",
       "      <th></th>\n",
       "      <th>count</th>\n",
       "      <th>mean</th>\n",
       "      <th>std</th>\n",
       "      <th>min</th>\n",
       "      <th>25%</th>\n",
       "      <th>50%</th>\n",
       "      <th>75%</th>\n",
       "      <th>max</th>\n",
       "    </tr>\n",
       "  </thead>\n",
       "  <tbody>\n",
       "    <tr>\n",
       "      <th>Rooms</th>\n",
       "      <td>6196.0</td>\n",
       "      <td>2.931407e+00</td>\n",
       "      <td>0.971079</td>\n",
       "      <td>1.00000</td>\n",
       "      <td>2.000000</td>\n",
       "      <td>3.00000</td>\n",
       "      <td>4.000000e+00</td>\n",
       "      <td>8.000000e+00</td>\n",
       "    </tr>\n",
       "    <tr>\n",
       "      <th>Price</th>\n",
       "      <td>6196.0</td>\n",
       "      <td>1.068828e+06</td>\n",
       "      <td>675156.427502</td>\n",
       "      <td>131000.00000</td>\n",
       "      <td>620000.000000</td>\n",
       "      <td>880000.00000</td>\n",
       "      <td>1.325000e+06</td>\n",
       "      <td>9.000000e+06</td>\n",
       "    </tr>\n",
       "    <tr>\n",
       "      <th>Distance</th>\n",
       "      <td>6196.0</td>\n",
       "      <td>9.751097e+00</td>\n",
       "      <td>5.612065</td>\n",
       "      <td>0.00000</td>\n",
       "      <td>5.900000</td>\n",
       "      <td>9.00000</td>\n",
       "      <td>1.240000e+01</td>\n",
       "      <td>4.740000e+01</td>\n",
       "    </tr>\n",
       "    <tr>\n",
       "      <th>Bathroom</th>\n",
       "      <td>6196.0</td>\n",
       "      <td>1.576340e+00</td>\n",
       "      <td>0.711362</td>\n",
       "      <td>1.00000</td>\n",
       "      <td>1.000000</td>\n",
       "      <td>1.00000</td>\n",
       "      <td>2.000000e+00</td>\n",
       "      <td>8.000000e+00</td>\n",
       "    </tr>\n",
       "    <tr>\n",
       "      <th>Car</th>\n",
       "      <td>6196.0</td>\n",
       "      <td>1.573596e+00</td>\n",
       "      <td>0.929947</td>\n",
       "      <td>0.00000</td>\n",
       "      <td>1.000000</td>\n",
       "      <td>1.00000</td>\n",
       "      <td>2.000000e+00</td>\n",
       "      <td>1.000000e+01</td>\n",
       "    </tr>\n",
       "    <tr>\n",
       "      <th>Landsize</th>\n",
       "      <td>6196.0</td>\n",
       "      <td>4.710069e+02</td>\n",
       "      <td>897.449881</td>\n",
       "      <td>0.00000</td>\n",
       "      <td>152.000000</td>\n",
       "      <td>373.00000</td>\n",
       "      <td>6.280000e+02</td>\n",
       "      <td>3.700000e+04</td>\n",
       "    </tr>\n",
       "    <tr>\n",
       "      <th>BuildingArea</th>\n",
       "      <td>6196.0</td>\n",
       "      <td>1.415686e+02</td>\n",
       "      <td>90.834824</td>\n",
       "      <td>0.00000</td>\n",
       "      <td>91.000000</td>\n",
       "      <td>124.00000</td>\n",
       "      <td>1.700000e+02</td>\n",
       "      <td>3.112000e+03</td>\n",
       "    </tr>\n",
       "    <tr>\n",
       "      <th>YearBuilt</th>\n",
       "      <td>6196.0</td>\n",
       "      <td>1.964082e+03</td>\n",
       "      <td>38.105673</td>\n",
       "      <td>1196.00000</td>\n",
       "      <td>1940.000000</td>\n",
       "      <td>1970.00000</td>\n",
       "      <td>2.000000e+03</td>\n",
       "      <td>2.018000e+03</td>\n",
       "    </tr>\n",
       "    <tr>\n",
       "      <th>Lattitude</th>\n",
       "      <td>6196.0</td>\n",
       "      <td>-3.780790e+01</td>\n",
       "      <td>0.075850</td>\n",
       "      <td>-38.16492</td>\n",
       "      <td>-37.855438</td>\n",
       "      <td>-37.80225</td>\n",
       "      <td>-3.775820e+01</td>\n",
       "      <td>-3.745709e+01</td>\n",
       "    </tr>\n",
       "    <tr>\n",
       "      <th>Longtitude</th>\n",
       "      <td>6196.0</td>\n",
       "      <td>1.449902e+02</td>\n",
       "      <td>0.099165</td>\n",
       "      <td>144.54237</td>\n",
       "      <td>144.926198</td>\n",
       "      <td>144.99580</td>\n",
       "      <td>1.450527e+02</td>\n",
       "      <td>1.455264e+02</td>\n",
       "    </tr>\n",
       "    <tr>\n",
       "      <th>Propertycount</th>\n",
       "      <td>6196.0</td>\n",
       "      <td>7.435490e+03</td>\n",
       "      <td>4337.698917</td>\n",
       "      <td>389.00000</td>\n",
       "      <td>4383.750000</td>\n",
       "      <td>6567.00000</td>\n",
       "      <td>1.017500e+04</td>\n",
       "      <td>2.165000e+04</td>\n",
       "    </tr>\n",
       "    <tr>\n",
       "      <th>Age</th>\n",
       "      <td>6196.0</td>\n",
       "      <td>5.391801e+01</td>\n",
       "      <td>38.105673</td>\n",
       "      <td>0.00000</td>\n",
       "      <td>18.000000</td>\n",
       "      <td>48.00000</td>\n",
       "      <td>7.800000e+01</td>\n",
       "      <td>8.220000e+02</td>\n",
       "    </tr>\n",
       "    <tr>\n",
       "      <th>Month</th>\n",
       "      <td>6196.0</td>\n",
       "      <td>6.647515e+00</td>\n",
       "      <td>2.795943</td>\n",
       "      <td>1.00000</td>\n",
       "      <td>4.000000</td>\n",
       "      <td>7.00000</td>\n",
       "      <td>8.000000e+00</td>\n",
       "      <td>1.200000e+01</td>\n",
       "    </tr>\n",
       "    <tr>\n",
       "      <th>year</th>\n",
       "      <td>6196.0</td>\n",
       "      <td>2.016438e+03</td>\n",
       "      <td>0.496164</td>\n",
       "      <td>2016.00000</td>\n",
       "      <td>2016.000000</td>\n",
       "      <td>2016.00000</td>\n",
       "      <td>2.017000e+03</td>\n",
       "      <td>2.017000e+03</td>\n",
       "    </tr>\n",
       "  </tbody>\n",
       "</table>\n",
       "</div>"
      ],
      "text/plain": [
       "                count          mean            std           min  \\\n",
       "Rooms          6196.0  2.931407e+00       0.971079       1.00000   \n",
       "Price          6196.0  1.068828e+06  675156.427502  131000.00000   \n",
       "Distance       6196.0  9.751097e+00       5.612065       0.00000   \n",
       "Bathroom       6196.0  1.576340e+00       0.711362       1.00000   \n",
       "Car            6196.0  1.573596e+00       0.929947       0.00000   \n",
       "Landsize       6196.0  4.710069e+02     897.449881       0.00000   \n",
       "BuildingArea   6196.0  1.415686e+02      90.834824       0.00000   \n",
       "YearBuilt      6196.0  1.964082e+03      38.105673    1196.00000   \n",
       "Lattitude      6196.0 -3.780790e+01       0.075850     -38.16492   \n",
       "Longtitude     6196.0  1.449902e+02       0.099165     144.54237   \n",
       "Propertycount  6196.0  7.435490e+03    4337.698917     389.00000   \n",
       "Age            6196.0  5.391801e+01      38.105673       0.00000   \n",
       "Month          6196.0  6.647515e+00       2.795943       1.00000   \n",
       "year           6196.0  2.016438e+03       0.496164    2016.00000   \n",
       "\n",
       "                         25%           50%           75%           max  \n",
       "Rooms               2.000000       3.00000  4.000000e+00  8.000000e+00  \n",
       "Price          620000.000000  880000.00000  1.325000e+06  9.000000e+06  \n",
       "Distance            5.900000       9.00000  1.240000e+01  4.740000e+01  \n",
       "Bathroom            1.000000       1.00000  2.000000e+00  8.000000e+00  \n",
       "Car                 1.000000       1.00000  2.000000e+00  1.000000e+01  \n",
       "Landsize          152.000000     373.00000  6.280000e+02  3.700000e+04  \n",
       "BuildingArea       91.000000     124.00000  1.700000e+02  3.112000e+03  \n",
       "YearBuilt        1940.000000    1970.00000  2.000000e+03  2.018000e+03  \n",
       "Lattitude         -37.855438     -37.80225 -3.775820e+01 -3.745709e+01  \n",
       "Longtitude        144.926198     144.99580  1.450527e+02  1.455264e+02  \n",
       "Propertycount    4383.750000    6567.00000  1.017500e+04  2.165000e+04  \n",
       "Age                18.000000      48.00000  7.800000e+01  8.220000e+02  \n",
       "Month               4.000000       7.00000  8.000000e+00  1.200000e+01  \n",
       "year             2016.000000    2016.00000  2.017000e+03  2.017000e+03  "
      ]
     },
     "execution_count": 32,
     "metadata": {},
     "output_type": "execute_result"
    }
   ],
   "source": [
    "data.describe().transpose()"
   ]
  },
  {
   "cell_type": "code",
   "execution_count": 33,
   "id": "8313607c",
   "metadata": {},
   "outputs": [
    {
     "name": "stdout",
     "output_type": "stream",
     "text": [
      "<class 'pandas.core.frame.DataFrame'>\n",
      "Int64Index: 6196 entries, 1 to 12212\n",
      "Data columns (total 23 columns):\n",
      " #   Column         Non-Null Count  Dtype         \n",
      "---  ------         --------------  -----         \n",
      " 0   Suburb         6196 non-null   category      \n",
      " 1   Address        6196 non-null   category      \n",
      " 2   Rooms          6196 non-null   int64         \n",
      " 3   Type           6196 non-null   category      \n",
      " 4   Price          6196 non-null   float64       \n",
      " 5   Method         6196 non-null   category      \n",
      " 6   SellerG        6196 non-null   category      \n",
      " 7   Date           6196 non-null   datetime64[ns]\n",
      " 8   Distance       6196 non-null   float64       \n",
      " 9   Postcode       6196 non-null   category      \n",
      " 10  Bathroom       6196 non-null   float64       \n",
      " 11  Car            6196 non-null   float64       \n",
      " 12  Landsize       6196 non-null   float64       \n",
      " 13  BuildingArea   6196 non-null   float64       \n",
      " 14  YearBuilt      6196 non-null   float64       \n",
      " 15  CouncilArea    6196 non-null   category      \n",
      " 16  Lattitude      6196 non-null   float64       \n",
      " 17  Longtitude     6196 non-null   float64       \n",
      " 18  Regionname     6196 non-null   category      \n",
      " 19  Propertycount  6196 non-null   float64       \n",
      " 20  Age            6196 non-null   float64       \n",
      " 21  Month          6196 non-null   int64         \n",
      " 22  year           6196 non-null   int64         \n",
      "dtypes: category(8), datetime64[ns](1), float64(11), int64(3)\n",
      "memory usage: 1.5 MB\n"
     ]
    }
   ],
   "source": [
    "data.info()"
   ]
  },
  {
   "cell_type": "code",
   "execution_count": 34,
   "id": "1a2da7f5",
   "metadata": {},
   "outputs": [
    {
     "data": {
      "text/plain": [
       "['h', 'u', 't']\n",
       "Categories (3, object): ['h', 't', 'u']"
      ]
     },
     "execution_count": 34,
     "metadata": {},
     "output_type": "execute_result"
    }
   ],
   "source": [
    "data['Type'].unique()"
   ]
  },
  {
   "cell_type": "code",
   "execution_count": 35,
   "id": "bc5b908a",
   "metadata": {},
   "outputs": [
    {
     "data": {
      "text/plain": [
       "array([2016, 2017], dtype=int64)"
      ]
     },
     "execution_count": 35,
     "metadata": {},
     "output_type": "execute_result"
    }
   ],
   "source": [
    "data['year'].unique()"
   ]
  },
  {
   "cell_type": "code",
   "execution_count": 36,
   "id": "273f2f22",
   "metadata": {},
   "outputs": [
    {
     "data": {
      "text/plain": [
       "1        2016\n",
       "2        2017\n",
       "4        2016\n",
       "6        2016\n",
       "7        2016\n",
       "         ... \n",
       "12205    2017\n",
       "12206    2017\n",
       "12207    2017\n",
       "12209    2017\n",
       "12212    2017\n",
       "Name: year, Length: 6196, dtype: int64"
      ]
     },
     "execution_count": 36,
     "metadata": {},
     "output_type": "execute_result"
    }
   ],
   "source": [
    "data['year']"
   ]
  },
  {
   "cell_type": "code",
   "execution_count": 37,
   "id": "3caf6db4",
   "metadata": {},
   "outputs": [
    {
     "data": {
      "text/plain": [
       "array([2, 3, 4, 1, 6, 5, 8, 7], dtype=int64)"
      ]
     },
     "execution_count": 37,
     "metadata": {},
     "output_type": "execute_result"
    }
   ],
   "source": [
    "data['Rooms'].unique()"
   ]
  },
  {
   "cell_type": "code",
   "execution_count": 38,
   "id": "f0caf86d",
   "metadata": {},
   "outputs": [],
   "source": [
    "def per_room_sales(data,room,sales = tot_price):\n",
    "    room_sales = data['Price'].loc[data['Rooms'] == room].sum()/sales\n",
    "    return room_sales"
   ]
  },
  {
   "cell_type": "code",
   "execution_count": 39,
   "id": "1c092ec8",
   "metadata": {},
   "outputs": [],
   "source": [
    "one_room = per_room_sales(data,1)\n",
    "two_room = per_room_sales(data,2)\n",
    "three_room = per_room_sales(data,3)\n",
    "four_room = per_room_sales(data,4)\n",
    "five_room = per_room_sales(data,5)\n",
    "six_room = per_room_sales(data,6)\n",
    "seven_room = per_room_sales(data,7)\n",
    "eight_room = per_room_sales(data,8)"
   ]
  },
  {
   "cell_type": "code",
   "execution_count": 40,
   "id": "31a1a8b5",
   "metadata": {},
   "outputs": [],
   "source": [
    "room_tot_sales = [one_room,two_room,three_room,four_room,five_room,six_room,seven_room,eight_room]"
   ]
  },
  {
   "cell_type": "code",
   "execution_count": 41,
   "id": "786bca15",
   "metadata": {},
   "outputs": [],
   "source": [
    "labels = ['One room', 'Two room', 'Three room', 'Four room','Five room', 'Six room', 'Seven room', 'Eight room']\n",
    "colors = ['#ffb4da', '#b4b4ff', '#daffb4', '#fbab60', '#fa8072', '#FA6006','#FDB603', '#639702']"
   ]
  },
  {
   "cell_type": "code",
   "execution_count": 42,
   "id": "47a6e54d",
   "metadata": {},
   "outputs": [
    {
     "data": {
      "image/png": "[encoded data removed]",
      "text/plain": [
       "<Figure size 800x800 with 1 Axes>"
      ]
     },
     "metadata": {},
     "output_type": "display_data"
    }
   ],
   "source": [
    "import matplotlib.pyplot as plt\n",
    "fig, ax = plt.subplots(figsize=(8, 8))\n",
    "_, _, autotexts = ax.pie(room_tot_sales,colors=colors,wedgeprops={\"linewidth\": 1, \"edgecolor\": \"white\"},autopct=\"%1.1f%%\",)\n",
    "ax.set_title(\"Total Sales by No.of rooms in a house\")\n",
    "ax.legend(labels=[f\"{label}: {sales:,.2f}\" for label, sales in zip(labels, room_tot_sales)])\n",
    "for autotext in autotexts:\n",
    "    autotext.set_color(\"white\")\n",
    "plt.show()\n"
   ]
  },
  {
   "cell_type": "code",
   "execution_count": 43,
   "id": "fb8f964a",
   "metadata": {},
   "outputs": [],
   "source": [
    "def month_year_sales(data, month, year):\n",
    "    double_conditional = data['Price'].loc[(data['Month'] == month) & (data['year'] == year)].sum()\n",
    "    return double_conditional"
   ]
  },
  {
   "cell_type": "code",
   "execution_count": 44,
   "id": "df728f30",
   "metadata": {},
   "outputs": [],
   "source": [
    "january_2016 = month_year_sales(data, 1, 2016)\n",
    "february_2016 = month_year_sales(data, 2, 2016)\n",
    "march_2016 = month_year_sales(data, 3, 2016)\n",
    "april_2016 = month_year_sales(data, 4, 2016)\n",
    "may_2016 = month_year_sales(data, 5, 2016)\n",
    "june_2016 = month_year_sales(data, 6, 2016)\n",
    "july_2016 = month_year_sales(data, 7, 2016)\n",
    "august_2016 = month_year_sales(data, 8, 2016)\n",
    "september_2016 = month_year_sales(data, 9, 2016)\n",
    "october_2016 = month_year_sales(data, 10, 2016)\n",
    "november_2016 = month_year_sales(data, 11, 2016)\n",
    "december_2016 = month_year_sales(data, 12, 2016)"
   ]
  },
  {
   "cell_type": "code",
   "execution_count": 45,
   "id": "710f0f72",
   "metadata": {},
   "outputs": [],
   "source": [
    "january_2017 = month_year_sales(data, 1, 2017)\n",
    "february_2017 = month_year_sales(data, 2, 2017)\n",
    "march_2017 = month_year_sales(data, 3, 2017)\n",
    "april_2017 = month_year_sales(data, 4, 2017)\n",
    "may_2017 = month_year_sales(data, 5, 2017)\n",
    "june_2017 = month_year_sales(data, 6, 2017)\n",
    "july_2017 = month_year_sales(data, 7, 2017)\n",
    "august_2017 = month_year_sales(data, 8, 2017)\n",
    "september_2017 = month_year_sales(data, 9, 2017)\n",
    "october_2017 = month_year_sales(data, 10, 2017)\n",
    "november_2017 = month_year_sales(data, 11, 2017)\n",
    "december_2017 = month_year_sales(data, 12, 2017)"
   ]
  },
  {
   "cell_type": "code",
   "execution_count": 46,
   "id": "0455f400",
   "metadata": {},
   "outputs": [
    {
     "data": {
      "text/plain": [
       "[0.0,\n",
       " 0.0,\n",
       " 347303750.0,\n",
       " 342349700.0,\n",
       " 365670850.0,\n",
       " 354290090.0,\n",
       " 493900997.0,\n",
       " 453038649.0,\n",
       " 273703400.0,\n",
       " 556045698.0,\n",
       " 442122905.0,\n",
       " 213405499.0]"
      ]
     },
     "execution_count": 46,
     "metadata": {},
     "output_type": "execute_result"
    }
   ],
   "source": [
    "lst_2016 = [january_2016, february_2016, march_2016, april_2016,may_2016, june_2016, july_2016, august_2016,september_2016, october_2016, november_2016, december_2016]\n",
    "\n",
    "lst_2017 = [january_2017, february_2017, march_2017, april_2017,may_2017, june_2017, july_2017, august_2017,september_2017, october_2017, november_2017, december_2017]\n",
    "lst_2016"
   ]
  },
  {
   "cell_type": "code",
   "execution_count": 47,
   "id": "7568e8db",
   "metadata": {},
   "outputs": [
    {
     "data": {
      "text/plain": [
       "<matplotlib.legend.Legend at 0x1c4cd5331c0>"
      ]
     },
     "execution_count": 47,
     "metadata": {},
     "output_type": "execute_result"
    },
    {
     "data": {
      "image/png": "[encoded data removed]",
      "text/plain": [
       "<Figure size 640x480 with 1 Axes>"
      ]
     },
     "metadata": {},
     "output_type": "display_data"
    }
   ],
   "source": [
    "labels = ['January', 'February', 'March', 'April','May', 'June', 'July', 'August', 'September', 'October', 'November', 'December']\n",
    "colors = ['blue', 'red']\n",
    "for i, year_data in enumerate([lst_2016, lst_2017]):\n",
    "    plt.scatter(year_data,labels,color=colors[i], label='Data for 201{}'.format(i+6))\n",
    "plt.text(0.5, 1.1, 'Data for 2016 and 2017', ha='center', va='center', transform=plt.gca().transAxes)\n",
    "plt.legend()"
   ]
  },
  {
   "cell_type": "code",
   "execution_count": 62,
   "id": "bd80cc9a",
   "metadata": {},
   "outputs": [],
   "source": [
    "def type_sales(data, type1):\n",
    "    type_prices = []\n",
    "    for samp in (data['Price'].loc[(data['Type'] == type1)]):\n",
    "        type_prices.append(samp)\n",
    "    return type_prices"
   ]
  },
  {
   "cell_type": "code",
   "execution_count": 63,
   "id": "ea490f9b",
   "metadata": {},
   "outputs": [],
   "source": [
    "h_price = type_sales(data,'h')\n",
    "u_price = type_sales(data,'u')\n",
    "t_price = type_sales(data,'t')"
   ]
  },
  {
   "cell_type": "code",
   "execution_count": 67,
   "id": "a42318fb",
   "metadata": {},
   "outputs": [
    {
     "data": {
      "text/plain": [
       "<matplotlib.legend.Legend at 0x1c4ce695900>"
      ]
     },
     "execution_count": 67,
     "metadata": {},
     "output_type": "execute_result"
    },
    {
     "data": {
      "image/png": "[encoded data removed]",
      "text/plain": [
       "<Figure size 640x480 with 1 Axes>"
      ]
     },
     "metadata": {},
     "output_type": "display_data"
    }
   ],
   "source": [
    "fig, ax = plt.subplots()\n",
    "\n",
    "# Plot the data\n",
    "ax.plot(h_price, label='H houses')\n",
    "ax.plot(u_price, label='U houses')\n",
    "ax.plot(t_price, label='T houses')\n",
    "ax.legend()"
   ]
  },
  {
   "cell_type": "code",
   "execution_count": 68,
   "id": "79fab0d1",
   "metadata": {},
   "outputs": [
    {
     "data": {
      "text/plain": [
       "['Biggin', 'Nelson', 'Jellis', 'LITTLE', 'Kay', ..., 'Kaye', 'Bowman', 'Langwell', 'Weston', 'Leeburn']\n",
       "Length: 203\n",
       "Categories (268, object): ['@Realty', 'ASL', 'Abercromby's', 'Ace', ..., 'iOne', 'iProperty', 'iSell', 'iTRAK']"
      ]
     },
     "execution_count": 68,
     "metadata": {},
     "output_type": "execute_result"
    }
   ],
   "source": [
    "data['SellerG'].unique()"
   ]
  },
  {
   "cell_type": "code",
   "execution_count": null,
   "id": "ec22d364",
   "metadata": {},
   "outputs": [],
   "source": []
  }
 ],
 "metadata": {
  "kernelspec": {
   "display_name": "Python 3 (ipykernel)",
   "language": "python",
   "name": "python3"
  },
  "language_info": {
   "codemirror_mode": {
    "name": "ipython",
    "version": 3
   },
   "file_extension": ".py",
   "mimetype": "text/x-python",
   "name": "python",
   "nbconvert_exporter": "python",
   "pygments_lexer": "ipython3",
   "version": "3.10.5"
  }
 },
 "nbformat": 4,
 "nbformat_minor": 5
}
